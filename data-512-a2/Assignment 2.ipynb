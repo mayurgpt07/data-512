{
 "cells": [
  {
   "cell_type": "code",
   "execution_count": 47,
   "metadata": {},
   "outputs": [],
   "source": [
    "import pandas as pd\n",
    "import numpy as np\n",
    "import matplotlib.pyplot as plt\n",
    "import seaborn as sns\n",
    "from wordcloud import WordCloud, STOPWORDS, ImageColorGenerator\n",
    "from nltk.stem import WordNetLemmatizer, PorterStemmer\n",
    "from nltk.corpus import stopwords\n",
    "import re\n",
    "from nltk.tokenize import word_tokenize"
   ]
  },
  {
   "cell_type": "code",
   "execution_count": 2,
   "metadata": {},
   "outputs": [
    {
     "name": "stdout",
     "output_type": "stream",
     "text": [
      "worker_id                  int64\n",
      "gender                    object\n",
      "english_first_language     int64\n",
      "age_group                 object\n",
      "education                 object\n",
      "dtype: object\n"
     ]
    }
   ],
   "source": [
    "comments = pd.read_csv('./data/toxicity_annotated_comments.tsv', sep = '\\t')\n",
    "annotations = pd.read_csv('./data/toxicity_annotations.tsv', sep = '\\t')\n",
    "workers = pd.read_csv('./data/toxicity_worker_demographics.tsv', sep = '\\t')\n",
    "\n",
    "print(workers.dtypes)"
   ]
  },
  {
   "cell_type": "code",
   "execution_count": 3,
   "metadata": {},
   "outputs": [],
   "source": [
    "workers['age_group'] = workers['age_group'].fillna('None')"
   ]
  },
  {
   "cell_type": "code",
   "execution_count": 4,
   "metadata": {},
   "outputs": [
    {
     "data": {
      "text/plain": [
       "<matplotlib.axes._subplots.AxesSubplot at 0x267c74856a0>"
      ]
     },
     "execution_count": 4,
     "metadata": {},
     "output_type": "execute_result"
    },
    {
     "data": {
      "image/png": "[encoded data removed]",
      "text/plain": [
       "<Figure size 432x288 with 1 Axes>"
      ]
     },
     "metadata": {
      "needs_background": "light"
     },
     "output_type": "display_data"
    }
   ],
   "source": [
    "workers['gender'].value_counts().plot(kind = 'bar')"
   ]
  },
  {
   "cell_type": "code",
   "execution_count": 5,
   "metadata": {},
   "outputs": [
    {
     "data": {
      "text/plain": [
       "<matplotlib.axes._subplots.AxesSubplot at 0x267bb37a6d8>"
      ]
     },
     "execution_count": 5,
     "metadata": {},
     "output_type": "execute_result"
    },
    {
     "data": {
      "image/png": "[encoded data removed]",
      "text/plain": [
       "<Figure size 432x288 with 1 Axes>"
      ]
     },
     "metadata": {
      "needs_background": "light"
     },
     "output_type": "display_data"
    }
   ],
   "source": [
    "workers['age_group'].value_counts().plot(kind = 'bar')"
   ]
  },
  {
   "cell_type": "code",
   "execution_count": 6,
   "metadata": {},
   "outputs": [
    {
     "data": {
      "text/plain": [
       "<matplotlib.axes._subplots.AxesSubplot at 0x267bb566470>"
      ]
     },
     "execution_count": 6,
     "metadata": {},
     "output_type": "execute_result"
    },
    {
     "data": {
      "image/png": "[encoded data removed]",
      "text/plain": [
       "<Figure size 432x288 with 1 Axes>"
      ]
     },
     "metadata": {
      "needs_background": "light"
     },
     "output_type": "display_data"
    }
   ],
   "source": [
    "workers['education'].value_counts().plot(kind = 'bar')"
   ]
  },
  {
   "cell_type": "markdown",
   "metadata": {},
   "source": [
    "The data in the workers file is less and to understand more on demographics we need to join with annotation to analysze"
   ]
  },
  {
   "cell_type": "code",
   "execution_count": 7,
   "metadata": {},
   "outputs": [
    {
     "data": {
      "text/plain": [
       "worker_id\n",
       "0        77\n",
       "1         5\n",
       "2        37\n",
       "3        42\n",
       "4       135\n",
       "       ... \n",
       "4296      4\n",
       "4297      1\n",
       "4298      5\n",
       "4299      4\n",
       "4300      0\n",
       "Name: toxicity, Length: 4301, dtype: int64"
      ]
     },
     "execution_count": 7,
     "metadata": {},
     "output_type": "execute_result"
    }
   ],
   "source": [
    "annotations.groupby('worker_id')['toxicity'].sum()"
   ]
  },
  {
   "cell_type": "code",
   "execution_count": 8,
   "metadata": {},
   "outputs": [],
   "source": [
    "g1 = annotations.groupby('worker_id')['toxicity'].count()"
   ]
  },
  {
   "cell_type": "code",
   "execution_count": 9,
   "metadata": {},
   "outputs": [],
   "source": [
    "workerToxic = pd.DataFrame({'TotalComments' : annotations.groupby('worker_id')['toxicity'].count(), 'ToxicComments': annotations.groupby('worker_id')['toxicity'].sum()}).reset_index()"
   ]
  },
  {
   "cell_type": "code",
   "execution_count": 10,
   "metadata": {},
   "outputs": [],
   "source": [
    "workerToxic['NonToxicComments'] = workerToxic['TotalComments'] - workerToxic['ToxicComments']"
   ]
  },
  {
   "cell_type": "code",
   "execution_count": 11,
   "metadata": {},
   "outputs": [],
   "source": [
    "workerToxicDemo = pd.merge(workerToxic, workers, on=['worker_id'], how = 'left')"
   ]
  },
  {
   "cell_type": "code",
   "execution_count": 12,
   "metadata": {},
   "outputs": [
    {
     "data": {
      "text/plain": [
       "worker_id                   int64\n",
       "TotalComments               int64\n",
       "ToxicComments               int64\n",
       "NonToxicComments            int64\n",
       "gender                     object\n",
       "english_first_language    float64\n",
       "age_group                  object\n",
       "education                  object\n",
       "dtype: object"
      ]
     },
     "execution_count": 12,
     "metadata": {},
     "output_type": "execute_result"
    }
   ],
   "source": [
    "workerToxicDemo.dtypes"
   ]
  },
  {
   "cell_type": "code",
   "execution_count": 13,
   "metadata": {},
   "outputs": [],
   "source": [
    "workerToxicDemo['gender'] = workerToxicDemo['gender'].fillna('None')\n",
    "workerToxicDemo['english_first_language'] = workerToxicDemo['english_first_language'].fillna(2)\n",
    "workerToxicDemo['age_group'] = workerToxicDemo['age_group'].fillna('None')\n",
    "workerToxicDemo['education'] = workerToxicDemo['education'].fillna('No Education')"
   ]
  },
  {
   "cell_type": "code",
   "execution_count": 14,
   "metadata": {},
   "outputs": [
    {
     "data": {
      "text/html": [
       "<div>\n",
       "<style scoped>\n",
       "    .dataframe tbody tr th:only-of-type {\n",
       "        vertical-align: middle;\n",
       "    }\n",
       "\n",
       "    .dataframe tbody tr th {\n",
       "        vertical-align: top;\n",
       "    }\n",
       "\n",
       "    .dataframe thead th {\n",
       "        text-align: right;\n",
       "    }\n",
       "</style>\n",
       "<table border=\"1\" class=\"dataframe\">\n",
       "  <thead>\n",
       "    <tr style=\"text-align: right;\">\n",
       "      <th></th>\n",
       "      <th>worker_id</th>\n",
       "      <th>TotalComments</th>\n",
       "      <th>ToxicComments</th>\n",
       "      <th>NonToxicComments</th>\n",
       "      <th>gender</th>\n",
       "      <th>english_first_language</th>\n",
       "      <th>age_group</th>\n",
       "      <th>education</th>\n",
       "    </tr>\n",
       "  </thead>\n",
       "  <tbody>\n",
       "    <tr>\n",
       "      <th>0</th>\n",
       "      <td>0</td>\n",
       "      <td>479</td>\n",
       "      <td>77</td>\n",
       "      <td>402</td>\n",
       "      <td>male</td>\n",
       "      <td>0.0</td>\n",
       "      <td>30-45</td>\n",
       "      <td>professional</td>\n",
       "    </tr>\n",
       "    <tr>\n",
       "      <th>1</th>\n",
       "      <td>1</td>\n",
       "      <td>45</td>\n",
       "      <td>5</td>\n",
       "      <td>40</td>\n",
       "      <td>male</td>\n",
       "      <td>0.0</td>\n",
       "      <td>18-30</td>\n",
       "      <td>hs</td>\n",
       "    </tr>\n",
       "    <tr>\n",
       "      <th>2</th>\n",
       "      <td>2</td>\n",
       "      <td>476</td>\n",
       "      <td>37</td>\n",
       "      <td>439</td>\n",
       "      <td>None</td>\n",
       "      <td>2.0</td>\n",
       "      <td>None</td>\n",
       "      <td>No Education</td>\n",
       "    </tr>\n",
       "    <tr>\n",
       "      <th>3</th>\n",
       "      <td>3</td>\n",
       "      <td>367</td>\n",
       "      <td>42</td>\n",
       "      <td>325</td>\n",
       "      <td>female</td>\n",
       "      <td>0.0</td>\n",
       "      <td>18-30</td>\n",
       "      <td>bachelors</td>\n",
       "    </tr>\n",
       "    <tr>\n",
       "      <th>4</th>\n",
       "      <td>4</td>\n",
       "      <td>475</td>\n",
       "      <td>135</td>\n",
       "      <td>340</td>\n",
       "      <td>None</td>\n",
       "      <td>2.0</td>\n",
       "      <td>None</td>\n",
       "      <td>No Education</td>\n",
       "    </tr>\n",
       "    <tr>\n",
       "      <th>...</th>\n",
       "      <td>...</td>\n",
       "      <td>...</td>\n",
       "      <td>...</td>\n",
       "      <td>...</td>\n",
       "      <td>...</td>\n",
       "      <td>...</td>\n",
       "      <td>...</td>\n",
       "      <td>...</td>\n",
       "    </tr>\n",
       "    <tr>\n",
       "      <th>4296</th>\n",
       "      <td>4296</td>\n",
       "      <td>27</td>\n",
       "      <td>4</td>\n",
       "      <td>23</td>\n",
       "      <td>male</td>\n",
       "      <td>0.0</td>\n",
       "      <td>30-45</td>\n",
       "      <td>bachelors</td>\n",
       "    </tr>\n",
       "    <tr>\n",
       "      <th>4297</th>\n",
       "      <td>4297</td>\n",
       "      <td>9</td>\n",
       "      <td>1</td>\n",
       "      <td>8</td>\n",
       "      <td>male</td>\n",
       "      <td>1.0</td>\n",
       "      <td>Over 60</td>\n",
       "      <td>professional</td>\n",
       "    </tr>\n",
       "    <tr>\n",
       "      <th>4298</th>\n",
       "      <td>4298</td>\n",
       "      <td>44</td>\n",
       "      <td>5</td>\n",
       "      <td>39</td>\n",
       "      <td>female</td>\n",
       "      <td>1.0</td>\n",
       "      <td>18-30</td>\n",
       "      <td>hs</td>\n",
       "    </tr>\n",
       "    <tr>\n",
       "      <th>4299</th>\n",
       "      <td>4299</td>\n",
       "      <td>16</td>\n",
       "      <td>4</td>\n",
       "      <td>12</td>\n",
       "      <td>male</td>\n",
       "      <td>0.0</td>\n",
       "      <td>18-30</td>\n",
       "      <td>hs</td>\n",
       "    </tr>\n",
       "    <tr>\n",
       "      <th>4300</th>\n",
       "      <td>4300</td>\n",
       "      <td>5</td>\n",
       "      <td>0</td>\n",
       "      <td>5</td>\n",
       "      <td>female</td>\n",
       "      <td>1.0</td>\n",
       "      <td>18-30</td>\n",
       "      <td>bachelors</td>\n",
       "    </tr>\n",
       "  </tbody>\n",
       "</table>\n",
       "<p>4301 rows × 8 columns</p>\n",
       "</div>"
      ],
      "text/plain": [
       "      worker_id  TotalComments  ToxicComments  NonToxicComments  gender  \\\n",
       "0             0            479             77               402    male   \n",
       "1             1             45              5                40    male   \n",
       "2             2            476             37               439    None   \n",
       "3             3            367             42               325  female   \n",
       "4             4            475            135               340    None   \n",
       "...         ...            ...            ...               ...     ...   \n",
       "4296       4296             27              4                23    male   \n",
       "4297       4297              9              1                 8    male   \n",
       "4298       4298             44              5                39  female   \n",
       "4299       4299             16              4                12    male   \n",
       "4300       4300              5              0                 5  female   \n",
       "\n",
       "      english_first_language age_group     education  \n",
       "0                        0.0     30-45  professional  \n",
       "1                        0.0     18-30            hs  \n",
       "2                        2.0      None  No Education  \n",
       "3                        0.0     18-30     bachelors  \n",
       "4                        2.0      None  No Education  \n",
       "...                      ...       ...           ...  \n",
       "4296                     0.0     30-45     bachelors  \n",
       "4297                     1.0   Over 60  professional  \n",
       "4298                     1.0     18-30            hs  \n",
       "4299                     0.0     18-30            hs  \n",
       "4300                     1.0     18-30     bachelors  \n",
       "\n",
       "[4301 rows x 8 columns]"
      ]
     },
     "execution_count": 14,
     "metadata": {},
     "output_type": "execute_result"
    }
   ],
   "source": [
    "workerToxicDemo"
   ]
  },
  {
   "cell_type": "code",
   "execution_count": 15,
   "metadata": {},
   "outputs": [
    {
     "data": {
      "text/plain": [
       "<matplotlib.axes._subplots.AxesSubplot at 0x267bbedd828>"
      ]
     },
     "execution_count": 15,
     "metadata": {},
     "output_type": "execute_result"
    },
    {
     "data": {
      "image/png": "[encoded data removed]",
      "text/plain": [
       "<Figure size 432x288 with 1 Axes>"
      ]
     },
     "metadata": {
      "needs_background": "light"
     },
     "output_type": "display_data"
    }
   ],
   "source": [
    "workerToxicDemo['gender'].value_counts().plot(kind = 'bar')"
   ]
  },
  {
   "cell_type": "code",
   "execution_count": 16,
   "metadata": {},
   "outputs": [
    {
     "data": {
      "text/plain": [
       "<matplotlib.axes._subplots.AxesSubplot at 0x267bb56d8d0>"
      ]
     },
     "execution_count": 16,
     "metadata": {},
     "output_type": "execute_result"
    },
    {
     "data": {
      "image/png": "[encoded data removed]",
      "text/plain": [
       "<Figure size 432x288 with 1 Axes>"
      ]
     },
     "metadata": {
      "needs_background": "light"
     },
     "output_type": "display_data"
    }
   ],
   "source": [
    "workerToxicDemo['english_first_language'].value_counts().plot(kind = 'bar')"
   ]
  },
  {
   "cell_type": "code",
   "execution_count": 17,
   "metadata": {},
   "outputs": [
    {
     "data": {
      "text/plain": [
       "<matplotlib.axes._subplots.AxesSubplot at 0x267bbf98400>"
      ]
     },
     "execution_count": 17,
     "metadata": {},
     "output_type": "execute_result"
    },
    {
     "data": {
      "image/png": "[encoded data removed]",
      "text/plain": [
       "<Figure size 432x288 with 1 Axes>"
      ]
     },
     "metadata": {
      "needs_background": "light"
     },
     "output_type": "display_data"
    }
   ],
   "source": [
    "workerToxicDemo['age_group'].value_counts().plot(kind = 'bar')"
   ]
  },
  {
   "cell_type": "code",
   "execution_count": 27,
   "metadata": {},
   "outputs": [
    {
     "name": "stdout",
     "output_type": "stream",
     "text": [
      "gender\n",
      "None      251334\n",
      "female    457346\n",
      "male      889251\n",
      "other        358\n",
      "Name: TotalComments, dtype: int64\n",
      "age_group\n",
      "18-30       708182\n",
      "30-45       468455\n",
      "45-60       103127\n",
      "None        280648\n",
      "Over 60       9717\n",
      "Under 18     28160\n",
      "Name: TotalComments, dtype: int64\n"
     ]
    }
   ],
   "source": [
    "print(workerToxicDemo.groupby('gender')['TotalComments'].sum())\n",
    "print(workerToxicDemo.groupby('age_group')['TotalComments'].sum())"
   ]
  },
  {
   "cell_type": "code",
   "execution_count": 19,
   "metadata": {},
   "outputs": [
    {
     "name": "stdout",
     "output_type": "stream",
     "text": [
      "gender\n",
      "None       35756\n",
      "female     71846\n",
      "male      124394\n",
      "other         59\n",
      "Name: ToxicComments, dtype: int64\n",
      "gender\n",
      "None      215578\n",
      "female    385500\n",
      "male      764857\n",
      "other        299\n",
      "Name: NonToxicComments, dtype: int64\n"
     ]
    }
   ],
   "source": [
    "print(workerToxicDemo.groupby('gender')['ToxicComments'].sum())\n",
    "print(workerToxicDemo.groupby('gender')['NonToxicComments'].sum())"
   ]
  },
  {
   "cell_type": "code",
   "execution_count": 21,
   "metadata": {},
   "outputs": [
    {
     "name": "stdout",
     "output_type": "stream",
     "text": [
      "age_group\n",
      "18-30       99976\n",
      "30-45       69997\n",
      "45-60       17145\n",
      "None        40029\n",
      "Over 60      1525\n",
      "Under 18     3383\n",
      "Name: ToxicComments, dtype: int64\n",
      "age_group\n",
      "18-30       608206\n",
      "30-45       398458\n",
      "45-60        85982\n",
      "None        240619\n",
      "Over 60       8192\n",
      "Under 18     24777\n",
      "Name: NonToxicComments, dtype: int64\n"
     ]
    }
   ],
   "source": [
    "print(workerToxicDemo.groupby('age_group')['ToxicComments'].sum())\n",
    "print(workerToxicDemo.groupby('age_group')['NonToxicComments'].sum())"
   ]
  },
  {
   "cell_type": "code",
   "execution_count": 22,
   "metadata": {},
   "outputs": [
    {
     "name": "stdout",
     "output_type": "stream",
     "text": [
      "education\n",
      "No Education    35756\n",
      "bachelors       80718\n",
      "doctorate        1908\n",
      "hs              54382\n",
      "masters         30281\n",
      "none              122\n",
      "professional    24106\n",
      "some             4782\n",
      "Name: ToxicComments, dtype: int64\n",
      "education\n",
      "No Education    215578\n",
      "bachelors       459495\n",
      "doctorate        12675\n",
      "hs              327129\n",
      "masters         175144\n",
      "none               803\n",
      "professional    144350\n",
      "some             31060\n",
      "Name: NonToxicComments, dtype: int64\n"
     ]
    }
   ],
   "source": [
    "print(workerToxicDemo.groupby('education')['ToxicComments'].sum())\n",
    "print(workerToxicDemo.groupby('education')['NonToxicComments'].sum())"
   ]
  },
  {
   "cell_type": "code",
   "execution_count": 24,
   "metadata": {},
   "outputs": [
    {
     "name": "stdout",
     "output_type": "stream",
     "text": [
      "english_first_language\n",
      "0.0    160714\n",
      "1.0     35585\n",
      "2.0     35756\n",
      "Name: ToxicComments, dtype: int64\n",
      "english_first_language\n",
      "0.0    952448\n",
      "1.0    198208\n",
      "2.0    215578\n",
      "Name: NonToxicComments, dtype: int64\n"
     ]
    }
   ],
   "source": [
    "print(workerToxicDemo.groupby('english_first_language')['ToxicComments'].sum())\n",
    "print(workerToxicDemo.groupby('english_first_language')['NonToxicComments'].sum())"
   ]
  },
  {
   "cell_type": "code",
   "execution_count": 26,
   "metadata": {},
   "outputs": [
    {
     "name": "stdout",
     "output_type": "stream",
     "text": [
      "gender  age_group\n",
      "None    None         35756\n",
      "female  18-30        34462\n",
      "        30-45        25677\n",
      "        45-60         8092\n",
      "        None          1759\n",
      "        Over 60       1007\n",
      "        Under 18       849\n",
      "male    18-30        65514\n",
      "        30-45        44320\n",
      "        45-60         9053\n",
      "        None          2514\n",
      "        Over 60        518\n",
      "        Under 18      2475\n",
      "other   Under 18        59\n",
      "Name: ToxicComments, dtype: int64\n",
      "gender  age_group\n",
      "None    None         215578\n",
      "female  18-30        186667\n",
      "        30-45        140144\n",
      "        45-60         38316\n",
      "        None           9482\n",
      "        Over 60        5929\n",
      "        Under 18       4962\n",
      "male    18-30        421539\n",
      "        30-45        258314\n",
      "        45-60         47666\n",
      "        None          15559\n",
      "        Over 60        2263\n",
      "        Under 18      19516\n",
      "other   Under 18        299\n",
      "Name: NonToxicComments, dtype: int64\n"
     ]
    }
   ],
   "source": [
    "## Filter and group by\n",
    "print(workerToxicDemo.groupby(['gender', 'age_group'])['ToxicComments'].sum())\n",
    "print(workerToxicDemo.groupby(['gender', 'age_group'])['NonToxicComments'].sum())"
   ]
  },
  {
   "cell_type": "code",
   "execution_count": 28,
   "metadata": {},
   "outputs": [
    {
     "data": {
      "text/html": [
       "<div>\n",
       "<style scoped>\n",
       "    .dataframe tbody tr th:only-of-type {\n",
       "        vertical-align: middle;\n",
       "    }\n",
       "\n",
       "    .dataframe tbody tr th {\n",
       "        vertical-align: top;\n",
       "    }\n",
       "\n",
       "    .dataframe thead th {\n",
       "        text-align: right;\n",
       "    }\n",
       "</style>\n",
       "<table border=\"1\" class=\"dataframe\">\n",
       "  <thead>\n",
       "    <tr style=\"text-align: right;\">\n",
       "      <th></th>\n",
       "      <th>rev_id</th>\n",
       "      <th>TotalReviews</th>\n",
       "      <th>SumReviews</th>\n",
       "    </tr>\n",
       "  </thead>\n",
       "  <tbody>\n",
       "    <tr>\n",
       "      <th>0</th>\n",
       "      <td>2232.0</td>\n",
       "      <td>10</td>\n",
       "      <td>1</td>\n",
       "    </tr>\n",
       "    <tr>\n",
       "      <th>1</th>\n",
       "      <td>4216.0</td>\n",
       "      <td>10</td>\n",
       "      <td>0</td>\n",
       "    </tr>\n",
       "    <tr>\n",
       "      <th>2</th>\n",
       "      <td>8953.0</td>\n",
       "      <td>10</td>\n",
       "      <td>0</td>\n",
       "    </tr>\n",
       "    <tr>\n",
       "      <th>3</th>\n",
       "      <td>26547.0</td>\n",
       "      <td>10</td>\n",
       "      <td>0</td>\n",
       "    </tr>\n",
       "    <tr>\n",
       "      <th>4</th>\n",
       "      <td>28959.0</td>\n",
       "      <td>10</td>\n",
       "      <td>2</td>\n",
       "    </tr>\n",
       "    <tr>\n",
       "      <th>...</th>\n",
       "      <td>...</td>\n",
       "      <td>...</td>\n",
       "      <td>...</td>\n",
       "    </tr>\n",
       "    <tr>\n",
       "      <th>159681</th>\n",
       "      <td>699848324.0</td>\n",
       "      <td>10</td>\n",
       "      <td>0</td>\n",
       "    </tr>\n",
       "    <tr>\n",
       "      <th>159682</th>\n",
       "      <td>699851288.0</td>\n",
       "      <td>10</td>\n",
       "      <td>0</td>\n",
       "    </tr>\n",
       "    <tr>\n",
       "      <th>159683</th>\n",
       "      <td>699857133.0</td>\n",
       "      <td>10</td>\n",
       "      <td>0</td>\n",
       "    </tr>\n",
       "    <tr>\n",
       "      <th>159684</th>\n",
       "      <td>699891012.0</td>\n",
       "      <td>10</td>\n",
       "      <td>4</td>\n",
       "    </tr>\n",
       "    <tr>\n",
       "      <th>159685</th>\n",
       "      <td>699897151.0</td>\n",
       "      <td>10</td>\n",
       "      <td>0</td>\n",
       "    </tr>\n",
       "  </tbody>\n",
       "</table>\n",
       "<p>159686 rows × 3 columns</p>\n",
       "</div>"
      ],
      "text/plain": [
       "             rev_id  TotalReviews  SumReviews\n",
       "0            2232.0            10           1\n",
       "1            4216.0            10           0\n",
       "2            8953.0            10           0\n",
       "3           26547.0            10           0\n",
       "4           28959.0            10           2\n",
       "...             ...           ...         ...\n",
       "159681  699848324.0            10           0\n",
       "159682  699851288.0            10           0\n",
       "159683  699857133.0            10           0\n",
       "159684  699891012.0            10           4\n",
       "159685  699897151.0            10           0\n",
       "\n",
       "[159686 rows x 3 columns]"
      ]
     },
     "execution_count": 28,
     "metadata": {},
     "output_type": "execute_result"
    }
   ],
   "source": [
    "## Add a word cloud\n",
    "toxicReviews = pd.DataFrame({'TotalReviews' : annotations.groupby('rev_id')['toxicity'].count(), 'SumReviews': annotations.groupby('rev_id')['toxicity'].sum()}).reset_index()\n",
    "toxicReviews"
   ]
  },
  {
   "cell_type": "code",
   "execution_count": 31,
   "metadata": {},
   "outputs": [],
   "source": [
    "toxicReviews['IsToxic'] = toxicReviews.apply(lambda row: 1 if row['SumReviews'] >= row['TotalReviews']/2 else 0, axis = 1)"
   ]
  },
  {
   "cell_type": "code",
   "execution_count": 32,
   "metadata": {},
   "outputs": [
    {
     "data": {
      "text/html": [
       "<div>\n",
       "<style scoped>\n",
       "    .dataframe tbody tr th:only-of-type {\n",
       "        vertical-align: middle;\n",
       "    }\n",
       "\n",
       "    .dataframe tbody tr th {\n",
       "        vertical-align: top;\n",
       "    }\n",
       "\n",
       "    .dataframe thead th {\n",
       "        text-align: right;\n",
       "    }\n",
       "</style>\n",
       "<table border=\"1\" class=\"dataframe\">\n",
       "  <thead>\n",
       "    <tr style=\"text-align: right;\">\n",
       "      <th></th>\n",
       "      <th>rev_id</th>\n",
       "      <th>TotalReviews</th>\n",
       "      <th>SumReviews</th>\n",
       "      <th>IsToxic</th>\n",
       "    </tr>\n",
       "  </thead>\n",
       "  <tbody>\n",
       "    <tr>\n",
       "      <th>0</th>\n",
       "      <td>2232.0</td>\n",
       "      <td>10</td>\n",
       "      <td>1</td>\n",
       "      <td>0</td>\n",
       "    </tr>\n",
       "    <tr>\n",
       "      <th>1</th>\n",
       "      <td>4216.0</td>\n",
       "      <td>10</td>\n",
       "      <td>0</td>\n",
       "      <td>0</td>\n",
       "    </tr>\n",
       "    <tr>\n",
       "      <th>2</th>\n",
       "      <td>8953.0</td>\n",
       "      <td>10</td>\n",
       "      <td>0</td>\n",
       "      <td>0</td>\n",
       "    </tr>\n",
       "    <tr>\n",
       "      <th>3</th>\n",
       "      <td>26547.0</td>\n",
       "      <td>10</td>\n",
       "      <td>0</td>\n",
       "      <td>0</td>\n",
       "    </tr>\n",
       "    <tr>\n",
       "      <th>4</th>\n",
       "      <td>28959.0</td>\n",
       "      <td>10</td>\n",
       "      <td>2</td>\n",
       "      <td>0</td>\n",
       "    </tr>\n",
       "    <tr>\n",
       "      <th>...</th>\n",
       "      <td>...</td>\n",
       "      <td>...</td>\n",
       "      <td>...</td>\n",
       "      <td>...</td>\n",
       "    </tr>\n",
       "    <tr>\n",
       "      <th>159681</th>\n",
       "      <td>699848324.0</td>\n",
       "      <td>10</td>\n",
       "      <td>0</td>\n",
       "      <td>0</td>\n",
       "    </tr>\n",
       "    <tr>\n",
       "      <th>159682</th>\n",
       "      <td>699851288.0</td>\n",
       "      <td>10</td>\n",
       "      <td>0</td>\n",
       "      <td>0</td>\n",
       "    </tr>\n",
       "    <tr>\n",
       "      <th>159683</th>\n",
       "      <td>699857133.0</td>\n",
       "      <td>10</td>\n",
       "      <td>0</td>\n",
       "      <td>0</td>\n",
       "    </tr>\n",
       "    <tr>\n",
       "      <th>159684</th>\n",
       "      <td>699891012.0</td>\n",
       "      <td>10</td>\n",
       "      <td>4</td>\n",
       "      <td>0</td>\n",
       "    </tr>\n",
       "    <tr>\n",
       "      <th>159685</th>\n",
       "      <td>699897151.0</td>\n",
       "      <td>10</td>\n",
       "      <td>0</td>\n",
       "      <td>0</td>\n",
       "    </tr>\n",
       "  </tbody>\n",
       "</table>\n",
       "<p>159686 rows × 4 columns</p>\n",
       "</div>"
      ],
      "text/plain": [
       "             rev_id  TotalReviews  SumReviews  IsToxic\n",
       "0            2232.0            10           1        0\n",
       "1            4216.0            10           0        0\n",
       "2            8953.0            10           0        0\n",
       "3           26547.0            10           0        0\n",
       "4           28959.0            10           2        0\n",
       "...             ...           ...         ...      ...\n",
       "159681  699848324.0            10           0        0\n",
       "159682  699851288.0            10           0        0\n",
       "159683  699857133.0            10           0        0\n",
       "159684  699891012.0            10           4        0\n",
       "159685  699897151.0            10           0        0\n",
       "\n",
       "[159686 rows x 4 columns]"
      ]
     },
     "execution_count": 32,
     "metadata": {},
     "output_type": "execute_result"
    }
   ],
   "source": [
    "toxicReviews"
   ]
  },
  {
   "cell_type": "code",
   "execution_count": 33,
   "metadata": {},
   "outputs": [
    {
     "data": {
      "text/html": [
       "<div>\n",
       "<style scoped>\n",
       "    .dataframe tbody tr th:only-of-type {\n",
       "        vertical-align: middle;\n",
       "    }\n",
       "\n",
       "    .dataframe tbody tr th {\n",
       "        vertical-align: top;\n",
       "    }\n",
       "\n",
       "    .dataframe thead th {\n",
       "        text-align: right;\n",
       "    }\n",
       "</style>\n",
       "<table border=\"1\" class=\"dataframe\">\n",
       "  <thead>\n",
       "    <tr style=\"text-align: right;\">\n",
       "      <th></th>\n",
       "      <th>rev_id</th>\n",
       "      <th>TotalReviews</th>\n",
       "      <th>SumReviews</th>\n",
       "      <th>IsToxic</th>\n",
       "    </tr>\n",
       "  </thead>\n",
       "  <tbody>\n",
       "    <tr>\n",
       "      <th>82</th>\n",
       "      <td>597212.0</td>\n",
       "      <td>10</td>\n",
       "      <td>6</td>\n",
       "      <td>1</td>\n",
       "    </tr>\n",
       "    <tr>\n",
       "      <th>104</th>\n",
       "      <td>682829.0</td>\n",
       "      <td>10</td>\n",
       "      <td>5</td>\n",
       "      <td>1</td>\n",
       "    </tr>\n",
       "    <tr>\n",
       "      <th>211</th>\n",
       "      <td>1266286.0</td>\n",
       "      <td>10</td>\n",
       "      <td>6</td>\n",
       "      <td>1</td>\n",
       "    </tr>\n",
       "    <tr>\n",
       "      <th>245</th>\n",
       "      <td>1502668.0</td>\n",
       "      <td>8</td>\n",
       "      <td>7</td>\n",
       "      <td>1</td>\n",
       "    </tr>\n",
       "    <tr>\n",
       "      <th>334</th>\n",
       "      <td>2187425.0</td>\n",
       "      <td>10</td>\n",
       "      <td>8</td>\n",
       "      <td>1</td>\n",
       "    </tr>\n",
       "    <tr>\n",
       "      <th>...</th>\n",
       "      <td>...</td>\n",
       "      <td>...</td>\n",
       "      <td>...</td>\n",
       "      <td>...</td>\n",
       "    </tr>\n",
       "    <tr>\n",
       "      <th>159644</th>\n",
       "      <td>699659494.0</td>\n",
       "      <td>10</td>\n",
       "      <td>6</td>\n",
       "      <td>1</td>\n",
       "    </tr>\n",
       "    <tr>\n",
       "      <th>159645</th>\n",
       "      <td>699660419.0</td>\n",
       "      <td>10</td>\n",
       "      <td>10</td>\n",
       "      <td>1</td>\n",
       "    </tr>\n",
       "    <tr>\n",
       "      <th>159646</th>\n",
       "      <td>699661020.0</td>\n",
       "      <td>10</td>\n",
       "      <td>9</td>\n",
       "      <td>1</td>\n",
       "    </tr>\n",
       "    <tr>\n",
       "      <th>159647</th>\n",
       "      <td>699661834.0</td>\n",
       "      <td>10</td>\n",
       "      <td>8</td>\n",
       "      <td>1</td>\n",
       "    </tr>\n",
       "    <tr>\n",
       "      <th>159649</th>\n",
       "      <td>699664687.0</td>\n",
       "      <td>10</td>\n",
       "      <td>10</td>\n",
       "      <td>1</td>\n",
       "    </tr>\n",
       "  </tbody>\n",
       "</table>\n",
       "<p>18397 rows × 4 columns</p>\n",
       "</div>"
      ],
      "text/plain": [
       "             rev_id  TotalReviews  SumReviews  IsToxic\n",
       "82         597212.0            10           6        1\n",
       "104        682829.0            10           5        1\n",
       "211       1266286.0            10           6        1\n",
       "245       1502668.0             8           7        1\n",
       "334       2187425.0            10           8        1\n",
       "...             ...           ...         ...      ...\n",
       "159644  699659494.0            10           6        1\n",
       "159645  699660419.0            10          10        1\n",
       "159646  699661020.0            10           9        1\n",
       "159647  699661834.0            10           8        1\n",
       "159649  699664687.0            10          10        1\n",
       "\n",
       "[18397 rows x 4 columns]"
      ]
     },
     "execution_count": 33,
     "metadata": {},
     "output_type": "execute_result"
    }
   ],
   "source": []
  },
  {
   "cell_type": "code",
   "execution_count": 35,
   "metadata": {},
   "outputs": [],
   "source": [
    "taggedReviews = pd.merge(comments, toxicReviews, on = ['rev_id'], how = 'left')"
   ]
  },
  {
   "cell_type": "code",
   "execution_count": 37,
   "metadata": {},
   "outputs": [
    {
     "data": {
      "text/plain": [
       "0         This::One can make an analogy in mathematical ...\n",
       "1         `:Clarification for you  (and Zundark's right,...\n",
       "2                                 Elected or Electoral? JHK\n",
       "3         `This is such a fun entry.   DevotchkaI once h...\n",
       "4         Please relate the ozone hole to increases in c...\n",
       "                                ...                        \n",
       "159681    `These sources don't exactly exude a sense of ...\n",
       "159682    The Institute for Historical Review is a peer-...\n",
       "159683    :The way you're trying to describe it in this ...\n",
       "159684    == Warning ==There is clearly a protectionist ...\n",
       "159685    Alternate option===Is there perhaps enough new...\n",
       "Name: comment, Length: 159686, dtype: object"
      ]
     },
     "execution_count": 37,
     "metadata": {},
     "output_type": "execute_result"
    }
   ],
   "source": [
    "taggedReviews['comment'] = taggedReviews['comment'].apply(lambda x: x.replace('NEWLINE_TOKEN','').replace('NEWLINE_TOKENNEWLINE_TOKEN', ''))"
   ]
  },
  {
   "cell_type": "code",
   "execution_count": 56,
   "metadata": {},
   "outputs": [],
   "source": [
    "stopwordsList = set(stopwords.words(['english']))\n",
    "lemmatizer = WordNetLemmatizer()\n",
    "\n",
    "def featureEngineer(toxic_data):\n",
    "    toxic_data['comment'] = toxic_data['comment'].apply(lambda x: re.sub('\\ |\\!|\\/|\\;|\\:|\\=|\\\"|\\:|\\]|\\[|\\`|\\<|\\>|\\{|\\}|\\'|\\?|\\.|\\,|\\|',' ', str(x)))\n",
    "    toxic_data['comment'] = toxic_data['comment'].apply(lambda x: re.sub('\\s+',' ',str(x).strip().lower()))\n",
    "    return toxic_data"
   ]
  },
  {
   "cell_type": "code",
   "execution_count": 62,
   "metadata": {},
   "outputs": [
    {
     "name": "stderr",
     "output_type": "stream",
     "text": [
      "C:\\ProgramData\\Anaconda3\\lib\\site-packages\\ipykernel_launcher.py:5: SettingWithCopyWarning: \n",
      "A value is trying to be set on a copy of a slice from a DataFrame.\n",
      "Try using .loc[row_indexer,col_indexer] = value instead\n",
      "\n",
      "See the caveats in the documentation: http://pandas.pydata.org/pandas-docs/stable/user_guide/indexing.html#returning-a-view-versus-a-copy\n",
      "  \"\"\"\n",
      "C:\\ProgramData\\Anaconda3\\lib\\site-packages\\ipykernel_launcher.py:6: SettingWithCopyWarning: \n",
      "A value is trying to be set on a copy of a slice from a DataFrame.\n",
      "Try using .loc[row_indexer,col_indexer] = value instead\n",
      "\n",
      "See the caveats in the documentation: http://pandas.pydata.org/pandas-docs/stable/user_guide/indexing.html#returning-a-view-versus-a-copy\n",
      "  \n"
     ]
    }
   ],
   "source": [
    "taggedReviews = featureEngineer(taggedReviews[taggedReviews['IsToxic'] == 1])"
   ]
  },
  {
   "cell_type": "code",
   "execution_count": 63,
   "metadata": {},
   "outputs": [
    {
     "data": {
      "image/png": "[encoded data removed]",
      "text/plain": [
       "<Figure size 432x288 with 1 Axes>"
      ]
     },
     "metadata": {
      "needs_background": "light"
     },
     "output_type": "display_data"
    }
   ],
   "source": [
    "text = \" \".join(review for review in taggedReviews.comment)\n",
    "wordcloud = WordCloud(background_color=\"white\").generate(text)\n",
    "plt.imshow(wordcloud, interpolation='bilinear')\n",
    "plt.axis(\"off\")\n",
    "plt.show()"
   ]
  },
  {
   "cell_type": "code",
   "execution_count": null,
   "metadata": {},
   "outputs": [],
   "source": []
  }
 ],
 "metadata": {
  "kernelspec": {
   "display_name": "Python 3",
   "language": "python",
   "name": "python3"
  },
  "language_info": {
   "codemirror_mode": {
    "name": "ipython",
    "version": 3
   },
   "file_extension": ".py",
   "mimetype": "text/x-python",
   "name": "python",
   "nbconvert_exporter": "python",
   "pygments_lexer": "ipython3",
   "version": "3.7.3"
  }
 },
 "nbformat": 4,
 "nbformat_minor": 2
}
