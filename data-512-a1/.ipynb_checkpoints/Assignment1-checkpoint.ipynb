{
 "cells": [
  {
   "cell_type": "markdown",
   "metadata": {},
   "source": [
    "### A1: Data Curation\n",
    "For this assignment, you combine data about Wikipedia page traffic from two different [Wikimedia REST API](https://wikitech.wikimedia.org/wiki/Analytics/AQS/Pageviews) endpoints into a single dataset, perform some simple data processing steps on the data, and then analyze that data\n",
    "\n",
    "Executing each cell **sequentially** (Shift + Enter)  or use **Kernel >> Restart & Run all**"
   ]
  },
  {
   "cell_type": "markdown",
   "metadata": {},
   "source": [
    "#### Step 1: Load neccessary packages\n",
    "For the purpose of fetching data, processing and analyzing it, we require the following packages:\n",
    "1. [requests](https://requests.readthedocs.io/en/master/user/install/) - Enables python code to access the API using GET, POST, UPDATE or DELETE request\n",
    "2. json - Enables python code to access the json object from the request and save it\n",
    "3. csv - Enables python code to create CSV files for the different types of data\n",
    "4. [pandas](https://pandas.pydata.org/docs/getting_started/install.html) - Enables python code to load data from csv files and perform necessary data processing\n",
    "5. [matplotlib](https://matplotlib.org/users/installing.html) - Enables python code to create visualizations and graphs"
   ]
  },
  {
   "cell_type": "code",
   "execution_count": 1,
   "metadata": {},
   "outputs": [],
   "source": [
    "import requests as re\n",
    "import json\n",
    "import csv\n",
    "import pandas as pd\n",
    "import matplotlib.pyplot as plt\n",
    "import seaborn as sns\n",
    "import datetime"
   ]
  },
  {
   "cell_type": "markdown",
   "metadata": {},
   "source": [
    "#### Step 2: Use the API documentation and endpoints to get the data\n",
    "1. Page Views API - [Documentation](https://wikitech.wikimedia.org/wiki/Analytics/AQS/Pageviews) <br />\n",
    "It contains page views from 2015/07/01 to current date. We measure only user interactions\n",
    "<br />\n",
    "<br />\n",
    "2. Page Counts API - [Documentation](https://wikitech.wikimedia.org/wiki/Analytics/AQS/Legacy_Pagecounts) <br />\n",
    "It contains legacy page counts from 2008/01/01 to 2016/07/30. We measure all interaction including but not limited to users, crawlers etc.\n",
    "<br />\n",
    "<br />\n",
    "\n",
    "Since we need to **get** the data we use the **GET** method and parameters based on the above documentations"
   ]
  },
  {
   "cell_type": "code",
   "execution_count": 2,
   "metadata": {},
   "outputs": [],
   "source": [
    "## Page Views\n",
    "r = re.get('https://wikimedia.org/api/rest_v1/metrics/pageviews/aggregate/all-projects/all-access/user/monthly/2015070100/2020093000')\n",
    "r_mobile_web = re.get('https://wikimedia.org/api/rest_v1/metrics/pageviews/aggregate/all-projects/mobile-web/user/monthly/2015070100/2020093000')\n",
    "r_mobile_app = re.get('https://wikimedia.org/api/rest_v1/metrics/pageviews/aggregate/all-projects/mobile-app/user/monthly/2015070100/2020093000')\n",
    "r_desktop = re.get('https://wikimedia.org/api/rest_v1/metrics/pageviews/aggregate/all-projects/desktop/user/monthly/2015070100/2020093000')"
   ]
  },
  {
   "cell_type": "code",
   "execution_count": 3,
   "metadata": {},
   "outputs": [],
   "source": [
    "## Page Count\n",
    "r_legacy = re.get('https://wikimedia.org/api/rest_v1/metrics/legacy/pagecounts/aggregate/all-projects/all-sites/monthly/2008010100/2016073000')\n",
    "r_legacy_desktop = re.get('https://wikimedia.org/api/rest_v1/metrics/legacy/pagecounts/aggregate/all-projects/desktop-site/monthly/2008010100/2016073000')\n",
    "r_legacy_mobile = re.get('https://wikimedia.org/api/rest_v1/metrics/legacy/pagecounts/aggregate/all-projects/mobile-site/monthly/2008010100/2016073000')"
   ]
  },
  {
   "cell_type": "markdown",
   "metadata": {},
   "source": [
    "#### Step 3: Function to save raw json output and csv output\n",
    "\n",
    "Create a function that enables the python code to extract data from each request and save it in both **json** and **csv** file format."
   ]
  },
  {
   "cell_type": "code",
   "execution_count": 4,
   "metadata": {},
   "outputs": [],
   "source": [
    "def createJsonAndCsv(request, fileName):\n",
    "    '''\n",
    "    Function to create json and csv file for all the request\n",
    "    '''\n",
    "    \n",
    "    ## Open the scope to access json files\n",
    "    with open(fileName+'.json', 'w') as outfile:\n",
    "        json.dump(request.json(), outfile)\n",
    "    \n",
    "    ## The data is contained in the parent key \"items\".\n",
    "    pageView = request.json()['items']\n",
    "    \n",
    "    ## create a csv file for each request\n",
    "    csv_file = open(fileName+'.csv', 'w')\n",
    "    \n",
    "    ## Add data to each csv file\n",
    "    csv_writer = csv.writer(csv_file)\n",
    "    count = 0\n",
    "    \n",
    "    ## Write data such that make the keys of json object as the header\n",
    "    for month in pageView:\n",
    "        if count == 0:\n",
    "            # Writing headers of CSV file \n",
    "            header = month.keys()\n",
    "            csv_writer.writerow(header)\n",
    "            count += 1\n",
    "        # Writing data of CSV file \n",
    "        csv_writer.writerow(month.values())\n",
    "    csv_file.close()"
   ]
  },
  {
   "cell_type": "markdown",
   "metadata": {},
   "source": [
    "#### Step 4: List all the request variables used before\n",
    "A dictionary is a data structure that stores value in the form of key-value pair\n",
    "\n",
    "Create a dictionary variable such that the key is the request variable and the value is file name you want\n",
    "\n",
    "For example: \n",
    "...\n",
    "* ***key*** = r, ***value*** = 'pageviews_all-access_201507-202009'\n",
    "* ***key*** = r_legacy_desktop, ***value*** = 'pagecounts_desktop-site_200801-201607'"
   ]
  },
  {
   "cell_type": "code",
   "execution_count": 5,
   "metadata": {},
   "outputs": [],
   "source": [
    "## Dictionary object with key:value pair of the form \"request: filename\"\n",
    "requestFile = {\n",
    "    r: 'pageviews_all-access_201507-202009',\n",
    "    r_mobile_web: 'pageviews_mobile-web_201507-202009',\n",
    "    r_mobile_app: 'pageviews_mobile-app_201507-202009',\n",
    "    r_desktop: 'pageviews_desktop_201507-202009',\n",
    "    r_legacy: 'pagecounts_all-access_200801-201607',\n",
    "    r_legacy_desktop: 'pagecounts_desktop-site_200801-201607',\n",
    "    r_legacy_mobile:'pagecounts_mobile-site_200801-201607'\n",
    "}"
   ]
  },
  {
   "cell_type": "markdown",
   "metadata": {},
   "source": [
    "#### Step 5: Run a loop over all request objects\n",
    "\n",
    "We execute the **createJsonAndCsv** function for each request object using a for loop"
   ]
  },
  {
   "cell_type": "code",
   "execution_count": 6,
   "metadata": {},
   "outputs": [],
   "source": [
    "## Call the fuction for all requests in the dictionary\n",
    "requests = list(requestFile.keys())\n",
    "\n",
    "for request in requests:\n",
    "    createJsonAndCsv(request, str(requestFile.get(request)))\n"
   ]
  },
  {
   "cell_type": "markdown",
   "metadata": {},
   "source": [
    "#### Step 6: Read the csv files created \n",
    "\n",
    "Read all the comma seperated(csv) files created by the above code"
   ]
  },
  {
   "cell_type": "code",
   "execution_count": 7,
   "metadata": {},
   "outputs": [],
   "source": [
    "## Read all the csv files\n",
    "pageViews_mobileweb = pd.read_csv('pageviews_mobile-web_201507-202009.csv')\n",
    "pageViews_mobileapp = pd.read_csv('pageviews_mobile-app_201507-202009.csv')\n",
    "pageViews_allAccess = pd.read_csv('pageviews_all-access_201507-202009.csv')\n",
    "pageViews_desktop = pd.read_csv('pageviews_desktop_201507-202009.csv')\n",
    "pageCounts_allAccess = pd.read_csv('pagecounts_all-access_200801-201607.csv')\n",
    "pageCounts_desktop = pd.read_csv('pagecounts_desktop-site_200801-201607.csv')\n",
    "pageCounts_mobile = pd.read_csv('pagecounts_mobile-site_200801-201607.csv')\n"
   ]
  },
  {
   "cell_type": "markdown",
   "metadata": {},
   "source": [
    "#### Step 7: Add mobile web and app views\n",
    "\n",
    "1. Sort the mobile app and mobile web views by the column 'timestamp'\n",
    "2. Create a new dataframe for total mobile views\n",
    "3. Create common columns in the total mobile dataframe from the mobile app and mobile web dataframe\n",
    "4. Add the views of mobile app and mobile web for the same month"
   ]
  },
  {
   "cell_type": "code",
   "execution_count": 8,
   "metadata": {},
   "outputs": [],
   "source": [
    "## Sort by timestamp\n",
    "pageViews_mobileweb = pageViews_mobileweb.sort_values(by=['timestamp'])\n",
    "pageViews_mobileapp = pageViews_mobileapp.sort_values(by=['timestamp'])\n",
    "\n",
    "## New dataframe \n",
    "pageViews_mobile = pd.DataFrame()\n",
    "\n",
    "## Pushing data in the new dataframe\n",
    "pageViews_mobile['project'] = pageViews_mobileweb['project']\n",
    "pageViews_mobile['access'] = 'mobile'\n",
    "pageViews_mobile['agent'] = pageViews_mobileweb['agent']\n",
    "pageViews_mobile['granularity'] = pageViews_mobileweb['granularity']\n",
    "pageViews_mobile['timestamp'] = pageViews_mobileweb['timestamp']\n",
    "pageViews_mobile['views'] = pageViews_mobileweb['views'] + pageViews_mobileapp['views']"
   ]
  },
  {
   "cell_type": "markdown",
   "metadata": {},
   "source": [
    "#### Step 8: Data processing - Extract year and month\n",
    "\n",
    "The function allows python code to extract year and month from 'timestamp' column.\n",
    "... Parameters:\n",
    "* ***dataframe***: dataframe you want to execute the function on\n",
    "* ***flag***: 0 for extracting views, 1 for extracting counts\n",
    "\n",
    "Steps used in the function:\n",
    "1. The API returns a date format of type YYYYMMDDHH\n",
    "2. To extract year and month, we convert the 'timestamp' column to string\n",
    "3. The first for value of each timestamp are the year\n",
    "4. The fifth and sixth value of each timestamp are the month\n",
    "5. Remove all the unecessary columns"
   ]
  },
  {
   "cell_type": "code",
   "execution_count": 9,
   "metadata": {},
   "outputs": [],
   "source": [
    "\n",
    "def createMonthAndYear(dataframe, flag):\n",
    "    '''\n",
    "    Function to extract month and year from timestamp\n",
    "    '''\n",
    "    \n",
    "    ## convert timestamp to string\n",
    "    dataframe['timestamp'] = dataframe['timestamp'].astype(str)\n",
    "    \n",
    "    ## Extract year\n",
    "    dataframe['year'] = dataframe['timestamp'].apply(lambda x: int(x[0:4]))\n",
    "    \n",
    "    ## Extract month\n",
    "    dataframe['month'] = dataframe['timestamp'].apply(lambda x: int(x[4:6]))\n",
    "    \n",
    "    ## Change month format from M to MM\n",
    "    dataframe['month'] = dataframe['month'].map(\"{:02}\".format)\n",
    "    if flag == 0:\n",
    "        return dataframe[[\"year\", \"month\", \"views\"]]\n",
    "    else:\n",
    "        return dataframe[[\"year\", \"month\", \"count\"]]"
   ]
  },
  {
   "cell_type": "markdown",
   "metadata": {},
   "source": [
    "#### Step 9: Call the Data processing function\n",
    "\n",
    "Call the **createMonthAndYear** function with the dataframe variables and apporpriate flags to generate month and year for all dataframes"
   ]
  },
  {
   "cell_type": "code",
   "execution_count": 10,
   "metadata": {},
   "outputs": [],
   "source": [
    "## Call the above function for all dataframes\n",
    "pageViews_mobile = createMonthAndYear(pageViews_mobile, 0)\n",
    "pageViews_allAccess = createMonthAndYear(pageViews_allAccess, 0)\n",
    "pageViews_desktop = createMonthAndYear(pageViews_desktop, 0)\n",
    "pageCounts_allAccess = createMonthAndYear(pageCounts_allAccess, 1)\n",
    "pageCounts_desktop = createMonthAndYear(pageCounts_desktop, 1)\n",
    "pageCounts_mobile = createMonthAndYear(pageCounts_mobile, 1)"
   ]
  },
  {
   "cell_type": "markdown",
   "metadata": {},
   "source": [
    "#### Step 10: Combine all dataframes\n",
    "\n",
    "Join all dataframes to create one consolidated wikipedia traffic dataframe\n",
    "\n",
    "1. Combine all ***pageViews*** dataframe <br />\n",
    "    Left join ***pageViews_allAccess*** , ***pageViews_desktop*** and ***pageViews_mobile*** for each year and month\n",
    "<br />\n",
    "\n",
    "2. Combine all ***pageCounts*** dataframe <br />\n",
    "    Left join ***pageCounts_allAccess*** , ***pageCounts_desktop*** and ***pageCounts_mobile*** for each year and month)\n",
    "<br />\n",
    "\n",
    "3. Combine the consolidated views and count dataframe to create ***wikipedia_traffic*** dataframe <br />\n",
    "    Outer join ***pageViews*** and ***pageCounts***)"
   ]
  },
  {
   "cell_type": "code",
   "execution_count": 11,
   "metadata": {},
   "outputs": [],
   "source": [
    "## Left Join all device counts with desktop counts\n",
    "merged = pd.merge(pageCounts_allAccess,pageCounts_desktop, on=['year','month'], how = 'left')\n",
    "## Left join the above with mobile counts \n",
    "pageCounts = pd.merge(merged, pageCounts_mobile, on=['year','month'], how = 'left')\n",
    "\n",
    "## Set the names of columns\n",
    "pageCounts.columns = ['year', 'month', 'pagecount_all_views', 'pagecount_desktop_views', 'pagecount_mobile_views']\n",
    "\n",
    "## Left Join all device and desktop views\n",
    "merged_views = pd.merge(pageViews_allAccess,pageViews_desktop, on=['year','month'], how = 'left')\n",
    "## Left join above with mobile views\n",
    "pageViews = pd.merge(merged_views,pageViews_mobile, on=['year','month'], how = 'left')\n",
    "\n",
    "## Set names of columns\n",
    "pageViews.columns = ['year', 'month', 'pageview_all_views', 'pageview_desktop_views', 'pageview_mobile_views']\n",
    "\n",
    "## Create final dataframe using outer join of pageCounts and pageViews\n",
    "wikipedia_traffic = pd.merge(pageCounts, pageViews, on=['year','month'], how='outer')\n",
    "\n",
    "## Output the final CSV\n",
    "wikipedia_traffic.to_csv('en-wikipedia_traffic_200801-202009.csv', header = True)"
   ]
  },
  {
   "cell_type": "markdown",
   "metadata": {},
   "source": [
    "#### Step 11: Create Visualization\n",
    "\n",
    "Create a visualization to show the page views and page counts for different years and different means of access\n",
    "\n",
    "1. Create a date column by appending the month, 1 and the year. <br />\n",
    "    For example if month = 10, year = 2010, date = 10/1/2010\n",
    "2. Set the date as the index of the dataframe. This allows us to directly use the **plot** function from pandas to create visualizations"
   ]
  },
  {
   "cell_type": "code",
   "execution_count": 12,
   "metadata": {},
   "outputs": [
    {
     "data": {
      "text/html": [
       "<div>\n",
       "<style scoped>\n",
       "    .dataframe tbody tr th:only-of-type {\n",
       "        vertical-align: middle;\n",
       "    }\n",
       "\n",
       "    .dataframe tbody tr th {\n",
       "        vertical-align: top;\n",
       "    }\n",
       "\n",
       "    .dataframe thead th {\n",
       "        text-align: right;\n",
       "    }\n",
       "</style>\n",
       "<table border=\"1\" class=\"dataframe\">\n",
       "  <thead>\n",
       "    <tr style=\"text-align: right;\">\n",
       "      <th></th>\n",
       "      <th>year</th>\n",
       "      <th>month</th>\n",
       "      <th>pagecount_all_views</th>\n",
       "      <th>pagecount_desktop_views</th>\n",
       "      <th>pagecount_mobile_views</th>\n",
       "      <th>pageview_all_views</th>\n",
       "      <th>pageview_desktop_views</th>\n",
       "      <th>pageview_mobile_views</th>\n",
       "    </tr>\n",
       "    <tr>\n",
       "      <th>Date</th>\n",
       "      <th></th>\n",
       "      <th></th>\n",
       "      <th></th>\n",
       "      <th></th>\n",
       "      <th></th>\n",
       "      <th></th>\n",
       "      <th></th>\n",
       "      <th></th>\n",
       "    </tr>\n",
       "  </thead>\n",
       "  <tbody>\n",
       "    <tr>\n",
       "      <th>2008-01-01</th>\n",
       "      <td>2008</td>\n",
       "      <td>01</td>\n",
       "      <td>9.154429e+09</td>\n",
       "      <td>9.154429e+09</td>\n",
       "      <td>NaN</td>\n",
       "      <td>NaN</td>\n",
       "      <td>NaN</td>\n",
       "      <td>NaN</td>\n",
       "    </tr>\n",
       "    <tr>\n",
       "      <th>2008-02-01</th>\n",
       "      <td>2008</td>\n",
       "      <td>02</td>\n",
       "      <td>8.843288e+09</td>\n",
       "      <td>8.843288e+09</td>\n",
       "      <td>NaN</td>\n",
       "      <td>NaN</td>\n",
       "      <td>NaN</td>\n",
       "      <td>NaN</td>\n",
       "    </tr>\n",
       "    <tr>\n",
       "      <th>2008-03-01</th>\n",
       "      <td>2008</td>\n",
       "      <td>03</td>\n",
       "      <td>9.191927e+09</td>\n",
       "      <td>9.191927e+09</td>\n",
       "      <td>NaN</td>\n",
       "      <td>NaN</td>\n",
       "      <td>NaN</td>\n",
       "      <td>NaN</td>\n",
       "    </tr>\n",
       "    <tr>\n",
       "      <th>2008-04-01</th>\n",
       "      <td>2008</td>\n",
       "      <td>04</td>\n",
       "      <td>9.645857e+09</td>\n",
       "      <td>9.645857e+09</td>\n",
       "      <td>NaN</td>\n",
       "      <td>NaN</td>\n",
       "      <td>NaN</td>\n",
       "      <td>NaN</td>\n",
       "    </tr>\n",
       "    <tr>\n",
       "      <th>2008-05-01</th>\n",
       "      <td>2008</td>\n",
       "      <td>05</td>\n",
       "      <td>1.069643e+10</td>\n",
       "      <td>1.069642e+10</td>\n",
       "      <td>6485.0</td>\n",
       "      <td>NaN</td>\n",
       "      <td>NaN</td>\n",
       "      <td>NaN</td>\n",
       "    </tr>\n",
       "    <tr>\n",
       "      <th>...</th>\n",
       "      <td>...</td>\n",
       "      <td>...</td>\n",
       "      <td>...</td>\n",
       "      <td>...</td>\n",
       "      <td>...</td>\n",
       "      <td>...</td>\n",
       "      <td>...</td>\n",
       "      <td>...</td>\n",
       "    </tr>\n",
       "    <tr>\n",
       "      <th>2020-05-01</th>\n",
       "      <td>2020</td>\n",
       "      <td>05</td>\n",
       "      <td>NaN</td>\n",
       "      <td>NaN</td>\n",
       "      <td>NaN</td>\n",
       "      <td>1.840342e+10</td>\n",
       "      <td>6.777243e+09</td>\n",
       "      <td>1.162617e+10</td>\n",
       "    </tr>\n",
       "    <tr>\n",
       "      <th>2020-06-01</th>\n",
       "      <td>2020</td>\n",
       "      <td>06</td>\n",
       "      <td>NaN</td>\n",
       "      <td>NaN</td>\n",
       "      <td>NaN</td>\n",
       "      <td>1.542529e+10</td>\n",
       "      <td>5.756011e+09</td>\n",
       "      <td>9.669275e+09</td>\n",
       "    </tr>\n",
       "    <tr>\n",
       "      <th>2020-07-01</th>\n",
       "      <td>2020</td>\n",
       "      <td>07</td>\n",
       "      <td>NaN</td>\n",
       "      <td>NaN</td>\n",
       "      <td>NaN</td>\n",
       "      <td>1.528387e+10</td>\n",
       "      <td>5.388701e+09</td>\n",
       "      <td>9.895168e+09</td>\n",
       "    </tr>\n",
       "    <tr>\n",
       "      <th>2020-08-01</th>\n",
       "      <td>2020</td>\n",
       "      <td>08</td>\n",
       "      <td>NaN</td>\n",
       "      <td>NaN</td>\n",
       "      <td>NaN</td>\n",
       "      <td>1.532596e+10</td>\n",
       "      <td>5.218751e+09</td>\n",
       "      <td>1.010721e+10</td>\n",
       "    </tr>\n",
       "    <tr>\n",
       "      <th>2020-09-01</th>\n",
       "      <td>2020</td>\n",
       "      <td>09</td>\n",
       "      <td>NaN</td>\n",
       "      <td>NaN</td>\n",
       "      <td>NaN</td>\n",
       "      <td>1.525415e+10</td>\n",
       "      <td>5.556517e+09</td>\n",
       "      <td>9.697631e+09</td>\n",
       "    </tr>\n",
       "  </tbody>\n",
       "</table>\n",
       "<p>153 rows × 8 columns</p>\n",
       "</div>"
      ],
      "text/plain": [
       "            year month  pagecount_all_views  pagecount_desktop_views  \\\n",
       "Date                                                                   \n",
       "2008-01-01  2008    01         9.154429e+09             9.154429e+09   \n",
       "2008-02-01  2008    02         8.843288e+09             8.843288e+09   \n",
       "2008-03-01  2008    03         9.191927e+09             9.191927e+09   \n",
       "2008-04-01  2008    04         9.645857e+09             9.645857e+09   \n",
       "2008-05-01  2008    05         1.069643e+10             1.069642e+10   \n",
       "...          ...   ...                  ...                      ...   \n",
       "2020-05-01  2020    05                  NaN                      NaN   \n",
       "2020-06-01  2020    06                  NaN                      NaN   \n",
       "2020-07-01  2020    07                  NaN                      NaN   \n",
       "2020-08-01  2020    08                  NaN                      NaN   \n",
       "2020-09-01  2020    09                  NaN                      NaN   \n",
       "\n",
       "            pagecount_mobile_views  pageview_all_views  \\\n",
       "Date                                                     \n",
       "2008-01-01                     NaN                 NaN   \n",
       "2008-02-01                     NaN                 NaN   \n",
       "2008-03-01                     NaN                 NaN   \n",
       "2008-04-01                     NaN                 NaN   \n",
       "2008-05-01                  6485.0                 NaN   \n",
       "...                            ...                 ...   \n",
       "2020-05-01                     NaN        1.840342e+10   \n",
       "2020-06-01                     NaN        1.542529e+10   \n",
       "2020-07-01                     NaN        1.528387e+10   \n",
       "2020-08-01                     NaN        1.532596e+10   \n",
       "2020-09-01                     NaN        1.525415e+10   \n",
       "\n",
       "            pageview_desktop_views  pageview_mobile_views  \n",
       "Date                                                       \n",
       "2008-01-01                     NaN                    NaN  \n",
       "2008-02-01                     NaN                    NaN  \n",
       "2008-03-01                     NaN                    NaN  \n",
       "2008-04-01                     NaN                    NaN  \n",
       "2008-05-01                     NaN                    NaN  \n",
       "...                            ...                    ...  \n",
       "2020-05-01            6.777243e+09           1.162617e+10  \n",
       "2020-06-01            5.756011e+09           9.669275e+09  \n",
       "2020-07-01            5.388701e+09           9.895168e+09  \n",
       "2020-08-01            5.218751e+09           1.010721e+10  \n",
       "2020-09-01            5.556517e+09           9.697631e+09  \n",
       "\n",
       "[153 rows x 8 columns]"
      ]
     },
     "execution_count": 12,
     "metadata": {},
     "output_type": "execute_result"
    }
   ],
   "source": [
    "## Create date column\n",
    "wikipedia_traffic['Date'] = pd.to_datetime(wikipedia_traffic['month'].astype(str) + '/' + '1' + '/' + wikipedia_traffic['year'].astype(str), format='%m/%d/%Y')\n",
    "wikipedia_traffic.set_index('Date')\n",
    "\n",
    "## Set date column as index\n",
    "wikipedia_traffic = wikipedia_traffic.set_index('Date')"
   ]
  },
  {
   "cell_type": "markdown",
   "metadata": {},
   "source": [
    "#### Step 12: Prepare visualization\n",
    "\n",
    "Set the size of the visualization accordingly to get the best possible output"
   ]
  },
  {
   "cell_type": "code",
   "execution_count": 15,
   "metadata": {},
   "outputs": [],
   "source": [
    "## Set figure size\n",
    "sns.set(rc={'figure.figsize':(15, 7)})"
   ]
  },
  {
   "cell_type": "markdown",
   "metadata": {},
   "source": [
    "#### Step 13: Create Visualization\n",
    "\n",
    "1) Use the **plot** function on the different columns of dataframe to generate time series plot <br />\n",
    "2) Set the parameters like **color** and **style** to modify the line graph generated <br />\n",
    "3) Set the parameter **title = \"Any suitable title\"** <br />\n",
    "4) Enable the legends by adding the parameter **legends = True** <br />\n",
    "5) Set the suitable legend names"
   ]
  },
  {
   "cell_type": "code",
   "execution_count": 17,
   "metadata": {},
   "outputs": [
    {
     "data": {
      "text/plain": [
       "Text(0, 0.5, 'Counts or Views on pages')"
      ]
     },
     "execution_count": 17,
     "metadata": {},
     "output_type": "execute_result"
    },
    {
     "data": {
      "image/png": "[encoded data removed]",
      "text/plain": [
       "<Figure size 1080x504 with 1 Axes>"
      ]
     },
     "metadata": {},
     "output_type": "display_data"
    }
   ],
   "source": [
    "fig, ax = plt.subplots()\n",
    "\n",
    "## plot the desktop counts (dashed) and views (solid) in green\n",
    "wikipedia_traffic['pagecount_desktop_views'].plot(color = 'green', style = '--', legend = True)\n",
    "wikipedia_traffic['pageview_desktop_views'].plot(color = 'green', legend = True)\n",
    "\n",
    "## plot the all device counts (dashed) and views (solid) in black\n",
    "wikipedia_traffic['pagecount_all_views'].plot(color = 'black',style = '--', legend = True)\n",
    "wikipedia_traffic['pageview_all_views'].plot(color = 'black', title ='Page Views on English Wikipedia (x 1,000,000)', legend = True)\n",
    "\n",
    "## plot the mobile counts (dashed) and views (solid) in blue\n",
    "wikipedia_traffic['pagecount_mobile_views'].plot(color = 'blue', style = '--', legend = True)\n",
    "wikipedia_traffic['pageview_mobile_views'].plot(color = 'blue', legend = True)\n",
    "\n",
    "## Set the legend for the graph\n",
    "ax.legend([\"Desktop Page Counts\", \"Desktop Page Views\", 'Total Page Count', 'Total Page View', 'Mobile Page Count', 'Mobile Page View'])\n",
    "ax.set_ylabel('Count or Views on pages')"
   ]
  },
  {
   "cell_type": "code",
   "execution_count": null,
   "metadata": {},
   "outputs": [],
   "source": []
  }
 ],
 "metadata": {
  "kernelspec": {
   "display_name": "Python 3",
   "language": "python",
   "name": "python3"
  },
  "language_info": {
   "codemirror_mode": {
    "name": "ipython",
    "version": 3
   },
   "file_extension": ".py",
   "mimetype": "text/x-python",
   "name": "python",
   "nbconvert_exporter": "python",
   "pygments_lexer": "ipython3",
   "version": "3.7.3"
  }
 },
 "nbformat": 4,
 "nbformat_minor": 2
}
