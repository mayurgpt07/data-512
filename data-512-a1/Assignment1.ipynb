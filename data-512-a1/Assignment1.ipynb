{
 "cells": [
  {
   "cell_type": "markdown",
   "metadata": {},
   "source": [
    "### A1: Data Curation\n",
    "For this assignment, you combine data about Wikipedia page traffic from two different [Wikimedia REST API](https://wikitech.wikimedia.org/wiki/Analytics/AQS/Pageviews) endpoints into a single dataset, perform some simple data processing steps on the data, and then analyze that data\n",
    "\n",
    "Executing each cell **sequentially** (Shift + Enter)  or use **Kernel >> Restart & Run all**"
   ]
  },
  {
   "cell_type": "markdown",
   "metadata": {},
   "source": [
    "#### Step 1: Load neccessary packages\n",
    "For the purpose of fetching data, processing and analyzing it, we require the following packages:\n",
    "1. [requests](https://requests.readthedocs.io/en/master/user/install/) - Enables python code to access the API using GET, POST, UPDATE or DELETE request\n",
    "2. json - Enables python code to access the json object from the request and save it\n",
    "3. csv - Enables python code to create CSV files for the different types of data\n",
    "4. [pandas](https://pandas.pydata.org/docs/getting_started/install.html) - Enables python code to load data from csv files and perform necessary data processing\n",
    "5. [matplotlib](https://matplotlib.org/users/installing.html) - Enables python code to create visualizations and graphs"
   ]
  },
  {
   "cell_type": "code",
   "execution_count": 1,
   "metadata": {},
   "outputs": [],
   "source": [
    "import requests as re\n",
    "import json\n",
    "import csv\n",
    "import pandas as pd\n",
    "import matplotlib.pyplot as plt\n",
    "import seaborn as sns\n",
    "import datetime"
   ]
  },
  {
   "cell_type": "markdown",
   "metadata": {},
   "source": [
    "#### Step 2: Use the API documentation and endpoints to get the data\n",
    "1. Page Views API - [Documentation](https://wikitech.wikimedia.org/wiki/Analytics/AQS/Pageviews) <br />\n",
    "It contains page views from 2015/07/01 to current date. We measure only user interactions\n",
    "<br />\n",
    "<br />\n",
    "2. Page Counts API - [Documentation](https://wikitech.wikimedia.org/wiki/Analytics/AQS/Legacy_Pagecounts) <br />\n",
    "It contains legacy page counts from 2008/01/01 to 2016/07/30. We measure all interaction including but not limited to users, crawlers etc.\n",
    "<br />\n",
    "<br />\n",
    "Since we need to get the data we use the **request.get** method and parameters based on the above documentations"
   ]
  },
  {
   "cell_type": "code",
   "execution_count": 2,
   "metadata": {},
   "outputs": [],
   "source": [
    "## Page Views\n",
    "r = re.get('https://wikimedia.org/api/rest_v1/metrics/pageviews/aggregate/all-projects/all-access/user/monthly/2015070100/2020093000')\n",
    "r_mobile_web = re.get('https://wikimedia.org/api/rest_v1/metrics/pageviews/aggregate/all-projects/mobile-web/user/monthly/2015070100/2020093000')\n",
    "r_mobile_app = re.get('https://wikimedia.org/api/rest_v1/metrics/pageviews/aggregate/all-projects/mobile-app/user/monthly/2015070100/2020093000')\n",
    "r_desktop = re.get('https://wikimedia.org/api/rest_v1/metrics/pageviews/aggregate/all-projects/desktop/user/monthly/2015070100/2020093000')"
   ]
  },
  {
   "cell_type": "code",
   "execution_count": 3,
   "metadata": {},
   "outputs": [],
   "source": [
    "## Page Count from \n",
    "r_legacy = re.get('https://wikimedia.org/api/rest_v1/metrics/legacy/pagecounts/aggregate/all-projects/all-sites/monthly/2008010100/2016073000')\n",
    "r_legacy_desktop = re.get('https://wikimedia.org/api/rest_v1/metrics/legacy/pagecounts/aggregate/all-projects/desktop-site/monthly/2008010100/2016073000')\n",
    "r_legacy_mobile = re.get('https://wikimedia.org/api/rest_v1/metrics/legacy/pagecounts/aggregate/all-projects/mobile-site/monthly/2008010100/2016073000')"
   ]
  },
  {
   "cell_type": "markdown",
   "metadata": {},
   "source": [
    "#### Step 3: Function to save raw json output and csv output\n",
    "\n",
    "Create a function that enables the python code to extract data from each request and save it in both **json** and **csv** file format."
   ]
  },
  {
   "cell_type": "code",
   "execution_count": 4,
   "metadata": {},
   "outputs": [],
   "source": [
    "def createJsonAndCsv(request, fileName):\n",
    "    with open(fileName+'.json', 'w') as outfile:\n",
    "        json.dump(request.json(), outfile)\n",
    "    \n",
    "    pageView = request.json()['items']\n",
    "    csv_file = open(fileName+'.csv', 'w')\n",
    "    csv_writer = csv.writer(csv_file)\n",
    "    count = 0\n",
    "    for month in pageView:\n",
    "        if count == 0:\n",
    "            # Writing headers of CSV file \n",
    "            header = month.keys()\n",
    "            csv_writer.writerow(header)\n",
    "            count += 1\n",
    "        # Writing data of CSV file \n",
    "        csv_writer.writerow(month.values())\n",
    "    csv_file.close()"
   ]
  },
  {
   "cell_type": "markdown",
   "metadata": {},
   "source": [
    "#### Step 4: List all the request variables used before\n",
    "A dictionary is a data structure that stores value in the form of key-value pair\n",
    "\n",
    "Create a dictionary variable such that the key is the request variable and the value is file name you want\n",
    "\n",
    "For example: \n",
    "...\n",
    "* ***key*** = r, ***value*** = 'pageviews_all-access_201507-202009'\n",
    "* ***key*** = r_legacy_desktop, ***value*** = 'pagecounts_desktop-site_200801-201607'"
   ]
  },
  {
   "cell_type": "code",
   "execution_count": 5,
   "metadata": {},
   "outputs": [],
   "source": [
    "requestFile = {\n",
    "    r: 'pageviews_all-access_201507-202009',\n",
    "    r_mobile_web: 'pageviews_mobile-web_201507-202009',\n",
    "    r_mobile_app: 'pageviews_mobile-app_201507-202009',\n",
    "    r_desktop: 'pageviews_desktop_201507-202009',\n",
    "    r_legacy: 'pagecounts_all-access_200801-201607',\n",
    "    r_legacy_desktop: 'pagecounts_desktop-site_200801-201607',\n",
    "    r_legacy_mobile:'pagecounts_mobile-site_200801-201607'\n",
    "}"
   ]
  },
  {
   "cell_type": "markdown",
   "metadata": {},
   "source": [
    "#### Step 5: Run a loop over all request objects\n",
    "\n",
    "We execute the **createJsonAndCsv** function for each request object using a for loop"
   ]
  },
  {
   "cell_type": "code",
   "execution_count": 6,
   "metadata": {},
   "outputs": [],
   "source": [
    "requests = list(requestFile.keys())\n",
    "\n",
    "for request in requests:\n",
    "    createJsonAndCsv(request, str(requestFile.get(request)))\n"
   ]
  },
  {
   "cell_type": "markdown",
   "metadata": {},
   "source": [
    "#### Step 6: Read the csv files created \n",
    "\n",
    "Read all the comma seperated(csv) files created by the above code"
   ]
  },
  {
   "cell_type": "code",
   "execution_count": 7,
   "metadata": {},
   "outputs": [],
   "source": [
    "pageViews_mobileweb = pd.read_csv('pageviews_mobile-web_201507-202009.csv')\n",
    "pageViews_mobileapp = pd.read_csv('pageviews_mobile-app_201507-202009.csv')\n",
    "pageViews_allAccess = pd.read_csv('pageviews_all-access_201507-202009.csv')\n",
    "pageViews_desktop = pd.read_csv('pageviews_desktop_201507-202009.csv')\n",
    "pageCounts_allAccess = pd.read_csv('pagecounts_all-access_200801-201607.csv')\n",
    "pageCounts_desktop = pd.read_csv('pagecounts_desktop-site_200801-201607.csv')\n",
    "pageCounts_mobile = pd.read_csv('pagecounts_mobile-site_200801-201607.csv')\n"
   ]
  },
  {
   "cell_type": "markdown",
   "metadata": {},
   "source": [
    "#### Step 7: Add mobile web and app views\n",
    "\n",
    "1. Sort the mobile app and mobile web views by the column 'timestamp'\n",
    "2. Create a new dataframe for total mobile views\n",
    "3. Create common columns in the total mobile dataframe from the mobile app and mobile web dataframe\n",
    "4. Add the views of mobile app and mobile web for the same month"
   ]
  },
  {
   "cell_type": "code",
   "execution_count": 8,
   "metadata": {},
   "outputs": [],
   "source": [
    "pageViews_mobileweb = pageViews_mobileweb.sort_values(by=['timestamp'])\n",
    "pageViews_mobileapp = pageViews_mobileapp.sort_values(by=['timestamp'])\n",
    "\n",
    "pageViews_mobile = pd.DataFrame()\n",
    "pageViews_mobile['project'] = pageViews_mobileweb['project']\n",
    "pageViews_mobile['access'] = 'mobile'\n",
    "pageViews_mobile['agent'] = pageViews_mobileweb['agent']\n",
    "pageViews_mobile['granularity'] = pageViews_mobileweb['granularity']\n",
    "pageViews_mobile['timestamp'] = pageViews_mobileweb['timestamp']\n",
    "pageViews_mobile['views'] = pageViews_mobileweb['views'] + pageViews_mobileapp['views']"
   ]
  },
  {
   "cell_type": "markdown",
   "metadata": {},
   "source": [
    "#### Step 8: Data processing - Extract year and month\n",
    "\n",
    "The function allows python code to extract year and month from 'timestamp' column.\n",
    "... Parameters:\n",
    "* ***dataframe***: dataframe you want to execute the function on\n",
    "* ***flag***: 0 for extracting views, 1 for extracting counts\n",
    "\n",
    "Steps used in the function:\n",
    "1. The API returns a date format of type YYYYMMDDHH\n",
    "2. To extract year and month, we convert the 'timestamp' column to string\n",
    "3. The first for value of each timestamp are the year\n",
    "4. The fifth and sixth value of each timestamp are the month\n",
    "5. Remove all the unecessary columns"
   ]
  },
  {
   "cell_type": "code",
   "execution_count": 9,
   "metadata": {},
   "outputs": [],
   "source": [
    "def createMonthAndYear(dataframe, flag):\n",
    "    dataframe['timestamp'] = dataframe['timestamp'].astype(str)\n",
    "    dataframe['year'] = dataframe['timestamp'].apply(lambda x: int(x[0:4]))\n",
    "    dataframe['month'] = dataframe['timestamp'].apply(lambda x: int(x[4:6]))\n",
    "    dataframe['month'] = dataframe['month'].map(\"{:02}\".format)\n",
    "    dataframe['month'] = dataframe['month'].astype(int)\n",
    "    if flag == 0:\n",
    "        return dataframe[[\"year\", \"month\", \"views\"]]\n",
    "    else:\n",
    "        return dataframe[[\"year\", \"month\", \"count\"]]"
   ]
  },
  {
   "cell_type": "code",
   "execution_count": 10,
   "metadata": {},
   "outputs": [],
   "source": [
    "pageViews_mobile = createMonthAndYear(pageViews_mobile, 0)\n",
    "pageViews_allAccess = createMonthAndYear(pageViews_allAccess, 0)\n",
    "pageViews_desktop = createMonthAndYear(pageViews_desktop, 0)\n",
    "pageCounts_allAccess = createMonthAndYear(pageCounts_allAccess, 1)\n",
    "pageCounts_desktop = createMonthAndYear(pageCounts_desktop, 1)\n",
    "pageCounts_mobile = createMonthAndYear(pageCounts_mobile, 1)"
   ]
  },
  {
   "cell_type": "markdown",
   "metadata": {},
   "source": [
    "#### Step 9: Combine all dataframes\n",
    "\n",
    "Join all dataframes to create one consolidated wikipedia traffic dataframe\n",
    "\n",
    "1. Combine all ***pageViews*** dataframe <br />\n",
    "    Left join ***pageViews_allAccess*** , ***pageViews_desktop*** and ***pageViews_mobile*** for each year and month\n",
    "<br />\n",
    "\n",
    "2. Combine all ***pageCounts*** dataframe <br />\n",
    "    Left join ***pageCounts_allAccess*** , ***pageCounts_desktop*** and ***pageCounts_mobile*** for each year and month)\n",
    "<br />\n",
    "\n",
    "3. Combine the consolidated views and count dataframe to create ***wikipedia_traffic*** dataframe <br />\n",
    "    Outer join ***pageViews*** and ***pageCounts***)"
   ]
  },
  {
   "cell_type": "code",
   "execution_count": 11,
   "metadata": {},
   "outputs": [],
   "source": [
    "merged = pd.merge(pageCounts_allAccess,pageCounts_desktop, on=['year','month'], how = 'left')\n",
    "pageCounts = pd.merge(merged, pageCounts_mobile, on=['year','month'], how = 'left')\n",
    "\n",
    "pageCounts.columns = ['year', 'month', 'pagecount_all_views', 'pagecount_desktop_views', 'pagecount_mobile_views']\n",
    "\n",
    "merged_views = pd.merge(pageViews_allAccess,pageViews_desktop, on=['year','month'], how = 'left')\n",
    "pageViews = pd.merge(merged_views,pageViews_mobile, on=['year','month'], how = 'left')\n",
    "\n",
    "pageViews.columns = ['year', 'month', 'pageview_all_views', 'pageview_desktop_views', 'pageview_mobile_views']\n",
    "\n",
    "wikipedia_traffic = pd.merge(pageCounts, pageViews, on=['year','month'], how='outer')\n",
    "\n",
    "wikipedia_traffic.to_csv('en-wikipedia_traffic_200801-202009.csv', header = True)"
   ]
  },
  {
   "cell_type": "markdown",
   "metadata": {},
   "source": [
    "#### Step 10: Create Visualization\n",
    "\n",
    "Create a visualization to show the page views and page counts for different years and different means of access\n",
    "\n",
    "1. Create a date column by appending the month, 1 and the year. <br />\n",
    "    For example if month = 10, year = 2010, date = 10/1/2010\n",
    "2. Set the date as the index of the dataframe. This allows us to directly use the **plot** function from pandas to create visualizations\n",
    "3. Set the figure size to 15 X 7 (use any dimension of your choice)\n",
    "4. Use **plot** function with suitable attributes to create the chart"
   ]
  },
  {
   "cell_type": "code",
   "execution_count": 12,
   "metadata": {},
   "outputs": [
    {
     "data": {
      "text/html": [
       "<div>\n",
       "<style scoped>\n",
       "    .dataframe tbody tr th:only-of-type {\n",
       "        vertical-align: middle;\n",
       "    }\n",
       "\n",
       "    .dataframe tbody tr th {\n",
       "        vertical-align: top;\n",
       "    }\n",
       "\n",
       "    .dataframe thead th {\n",
       "        text-align: right;\n",
       "    }\n",
       "</style>\n",
       "<table border=\"1\" class=\"dataframe\">\n",
       "  <thead>\n",
       "    <tr style=\"text-align: right;\">\n",
       "      <th></th>\n",
       "      <th>year</th>\n",
       "      <th>month</th>\n",
       "      <th>pagecount_all_views</th>\n",
       "      <th>pagecount_desktop_views</th>\n",
       "      <th>pagecount_mobile_views</th>\n",
       "      <th>pageview_all_views</th>\n",
       "      <th>pageview_desktop_views</th>\n",
       "      <th>pageview_mobile_views</th>\n",
       "    </tr>\n",
       "    <tr>\n",
       "      <th>Date</th>\n",
       "      <th></th>\n",
       "      <th></th>\n",
       "      <th></th>\n",
       "      <th></th>\n",
       "      <th></th>\n",
       "      <th></th>\n",
       "      <th></th>\n",
       "      <th></th>\n",
       "    </tr>\n",
       "  </thead>\n",
       "  <tbody>\n",
       "    <tr>\n",
       "      <th>2008-01-01</th>\n",
       "      <td>2008</td>\n",
       "      <td>1</td>\n",
       "      <td>9.154429e+09</td>\n",
       "      <td>9.154429e+09</td>\n",
       "      <td>NaN</td>\n",
       "      <td>NaN</td>\n",
       "      <td>NaN</td>\n",
       "      <td>NaN</td>\n",
       "    </tr>\n",
       "    <tr>\n",
       "      <th>2008-02-01</th>\n",
       "      <td>2008</td>\n",
       "      <td>2</td>\n",
       "      <td>8.843288e+09</td>\n",
       "      <td>8.843288e+09</td>\n",
       "      <td>NaN</td>\n",
       "      <td>NaN</td>\n",
       "      <td>NaN</td>\n",
       "      <td>NaN</td>\n",
       "    </tr>\n",
       "    <tr>\n",
       "      <th>2008-03-01</th>\n",
       "      <td>2008</td>\n",
       "      <td>3</td>\n",
       "      <td>9.191927e+09</td>\n",
       "      <td>9.191927e+09</td>\n",
       "      <td>NaN</td>\n",
       "      <td>NaN</td>\n",
       "      <td>NaN</td>\n",
       "      <td>NaN</td>\n",
       "    </tr>\n",
       "    <tr>\n",
       "      <th>2008-04-01</th>\n",
       "      <td>2008</td>\n",
       "      <td>4</td>\n",
       "      <td>9.645857e+09</td>\n",
       "      <td>9.645857e+09</td>\n",
       "      <td>NaN</td>\n",
       "      <td>NaN</td>\n",
       "      <td>NaN</td>\n",
       "      <td>NaN</td>\n",
       "    </tr>\n",
       "    <tr>\n",
       "      <th>2008-05-01</th>\n",
       "      <td>2008</td>\n",
       "      <td>5</td>\n",
       "      <td>1.069643e+10</td>\n",
       "      <td>1.069642e+10</td>\n",
       "      <td>6485.0</td>\n",
       "      <td>NaN</td>\n",
       "      <td>NaN</td>\n",
       "      <td>NaN</td>\n",
       "    </tr>\n",
       "    <tr>\n",
       "      <th>...</th>\n",
       "      <td>...</td>\n",
       "      <td>...</td>\n",
       "      <td>...</td>\n",
       "      <td>...</td>\n",
       "      <td>...</td>\n",
       "      <td>...</td>\n",
       "      <td>...</td>\n",
       "      <td>...</td>\n",
       "    </tr>\n",
       "    <tr>\n",
       "      <th>2020-05-01</th>\n",
       "      <td>2020</td>\n",
       "      <td>5</td>\n",
       "      <td>NaN</td>\n",
       "      <td>NaN</td>\n",
       "      <td>NaN</td>\n",
       "      <td>1.840342e+10</td>\n",
       "      <td>6.777243e+09</td>\n",
       "      <td>1.162617e+10</td>\n",
       "    </tr>\n",
       "    <tr>\n",
       "      <th>2020-06-01</th>\n",
       "      <td>2020</td>\n",
       "      <td>6</td>\n",
       "      <td>NaN</td>\n",
       "      <td>NaN</td>\n",
       "      <td>NaN</td>\n",
       "      <td>1.542529e+10</td>\n",
       "      <td>5.756011e+09</td>\n",
       "      <td>9.669275e+09</td>\n",
       "    </tr>\n",
       "    <tr>\n",
       "      <th>2020-07-01</th>\n",
       "      <td>2020</td>\n",
       "      <td>7</td>\n",
       "      <td>NaN</td>\n",
       "      <td>NaN</td>\n",
       "      <td>NaN</td>\n",
       "      <td>1.528387e+10</td>\n",
       "      <td>5.388701e+09</td>\n",
       "      <td>9.895168e+09</td>\n",
       "    </tr>\n",
       "    <tr>\n",
       "      <th>2020-08-01</th>\n",
       "      <td>2020</td>\n",
       "      <td>8</td>\n",
       "      <td>NaN</td>\n",
       "      <td>NaN</td>\n",
       "      <td>NaN</td>\n",
       "      <td>1.532596e+10</td>\n",
       "      <td>5.218751e+09</td>\n",
       "      <td>1.010721e+10</td>\n",
       "    </tr>\n",
       "    <tr>\n",
       "      <th>2020-09-01</th>\n",
       "      <td>2020</td>\n",
       "      <td>9</td>\n",
       "      <td>NaN</td>\n",
       "      <td>NaN</td>\n",
       "      <td>NaN</td>\n",
       "      <td>1.525415e+10</td>\n",
       "      <td>5.556517e+09</td>\n",
       "      <td>9.697631e+09</td>\n",
       "    </tr>\n",
       "  </tbody>\n",
       "</table>\n",
       "<p>153 rows × 8 columns</p>\n",
       "</div>"
      ],
      "text/plain": [
       "            year  month  pagecount_all_views  pagecount_desktop_views  \\\n",
       "Date                                                                    \n",
       "2008-01-01  2008      1         9.154429e+09             9.154429e+09   \n",
       "2008-02-01  2008      2         8.843288e+09             8.843288e+09   \n",
       "2008-03-01  2008      3         9.191927e+09             9.191927e+09   \n",
       "2008-04-01  2008      4         9.645857e+09             9.645857e+09   \n",
       "2008-05-01  2008      5         1.069643e+10             1.069642e+10   \n",
       "...          ...    ...                  ...                      ...   \n",
       "2020-05-01  2020      5                  NaN                      NaN   \n",
       "2020-06-01  2020      6                  NaN                      NaN   \n",
       "2020-07-01  2020      7                  NaN                      NaN   \n",
       "2020-08-01  2020      8                  NaN                      NaN   \n",
       "2020-09-01  2020      9                  NaN                      NaN   \n",
       "\n",
       "            pagecount_mobile_views  pageview_all_views  \\\n",
       "Date                                                     \n",
       "2008-01-01                     NaN                 NaN   \n",
       "2008-02-01                     NaN                 NaN   \n",
       "2008-03-01                     NaN                 NaN   \n",
       "2008-04-01                     NaN                 NaN   \n",
       "2008-05-01                  6485.0                 NaN   \n",
       "...                            ...                 ...   \n",
       "2020-05-01                     NaN        1.840342e+10   \n",
       "2020-06-01                     NaN        1.542529e+10   \n",
       "2020-07-01                     NaN        1.528387e+10   \n",
       "2020-08-01                     NaN        1.532596e+10   \n",
       "2020-09-01                     NaN        1.525415e+10   \n",
       "\n",
       "            pageview_desktop_views  pageview_mobile_views  \n",
       "Date                                                       \n",
       "2008-01-01                     NaN                    NaN  \n",
       "2008-02-01                     NaN                    NaN  \n",
       "2008-03-01                     NaN                    NaN  \n",
       "2008-04-01                     NaN                    NaN  \n",
       "2008-05-01                     NaN                    NaN  \n",
       "...                            ...                    ...  \n",
       "2020-05-01            6.777243e+09           1.162617e+10  \n",
       "2020-06-01            5.756011e+09           9.669275e+09  \n",
       "2020-07-01            5.388701e+09           9.895168e+09  \n",
       "2020-08-01            5.218751e+09           1.010721e+10  \n",
       "2020-09-01            5.556517e+09           9.697631e+09  \n",
       "\n",
       "[153 rows x 8 columns]"
      ]
     },
     "execution_count": 12,
     "metadata": {},
     "output_type": "execute_result"
    }
   ],
   "source": [
    "wikipedia_traffic['Date'] = pd.to_datetime(wikipedia_traffic['month'].astype(str) + '/' + '1' + '/' + wikipedia_traffic['year'].astype(str), format='%m/%d/%Y')\n",
    "wikipedia_traffic.set_index('Date')"
   ]
  },
  {
   "cell_type": "code",
   "execution_count": 13,
   "metadata": {},
   "outputs": [],
   "source": [
    "sns.set(rc={'figure.figsize':(15, 7)})\n",
    "# wikipedia_traffic = wikipedia_traffic.set_index('Date')"
   ]
  },
  {
   "cell_type": "code",
   "execution_count": 14,
   "metadata": {},
   "outputs": [
    {
     "data": {
      "text/plain": [
       "<matplotlib.legend.Legend at 0x2391591be80>"
      ]
     },
     "execution_count": 14,
     "metadata": {},
     "output_type": "execute_result"
    },
    {
     "data": {
      "image/png": "[encoded data removed]",
      "text/plain": [
       "<Figure size 1080x504 with 1 Axes>"
      ]
     },
     "metadata": {},
     "output_type": "display_data"
    }
   ],
   "source": [
    "fig, ax = plt.subplots()\n",
    "# xticks = pd.date_range(datetime.datetime(2008,1,1), datetime.datetime(2020,9,1), freq='YS')\n",
    "wikipedia_traffic['pagecount_desktop_views'].plot(color = 'green', style = '--', legend = True)\n",
    "wikipedia_traffic['pageview_desktop_views'].plot(color = 'green', legend = True)\n",
    "\n",
    "wikipedia_traffic['pagecount_all_views'].plot(color = 'black',style = '--', legend = True)\n",
    "wikipedia_traffic['pageview_all_views'].plot(color = 'black', title ='Page Views on English Wikipedia (x 1,000,000)', legend = True)\n",
    "\n",
    "wikipedia_traffic['pagecount_mobile_views'].plot(color = 'blue', style = '--', legend = True)\n",
    "wikipedia_traffic['pageview_mobile_views'].plot(color = 'blue', legend = True)\n",
    "# plt.xticks(list(set(wikipedia_traffic.index.year)))\n",
    "# ax.set_xticklabels([x.strftime('%Y') for x in xticks])re\n",
    "ax.legend([\"Desktop Page Counts\", \"Desktop Page Views\", 'Total Page Count', 'Total Page View', 'Mobile Page Count', 'Mobile Page View'])"
   ]
  },
  {
   "cell_type": "code",
   "execution_count": null,
   "metadata": {},
   "outputs": [],
   "source": []
  }
 ],
 "metadata": {
  "kernelspec": {
   "display_name": "Python 3",
   "language": "python",
   "name": "python3"
  },
  "language_info": {
   "codemirror_mode": {
    "name": "ipython",
    "version": 3
   },
   "file_extension": ".py",
   "mimetype": "text/x-python",
   "name": "python",
   "nbconvert_exporter": "python",
   "pygments_lexer": "ipython3",
   "version": "3.7.3"
  }
 },
 "nbformat": 4,
 "nbformat_minor": 2
}
